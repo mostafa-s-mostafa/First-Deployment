{
 "cells": [
  {
   "cell_type": "code",
   "execution_count": 1,
   "metadata": {},
   "outputs": [
    {
     "name": "stdout",
     "output_type": "stream",
     "text": [
      "Overwriting Input_Data.py\n"
     ]
    }
   ],
   "source": [
    "%%writefile Input_Data.py\n",
    "import streamlit as st\n",
    "import pandas as pd \n",
    "import numpy as np\n",
    "import plotly.express as px\n",
    "import matplotlib.pyplot as plt\n",
    "import seaborn as sns\n",
    "\n",
    "st.header('📝 Input Your Data for Analysis')\n",
    "st.markdown(\"Please fill in the following details to help us analyze your health and sleep statistics:\")\n",
    "\n",
    "age = st.slider(label='Enter Your Age', min_value=22, max_value=55)\n",
    "gender = st.radio(label='Choose Your Gender', options=['Male', 'Female'])\n",
    "activity_level = st.radio(label='Choose Your Physical Activity Level', options=['Low', 'Medium', 'High'])\n",
    "dietary_habits = st.selectbox(label='Choose Your Dietary Habits', options=['Healthy', 'Unhealthy', 'Medium'])\n",
    "\n",
    "st.markdown(\"---\")  # Horizontal line for separation\n",
    "\n",
    "# Sleep and Health-related inputs\n",
    "sleep_disorder = st.radio(label='Do You Suffer from Sleep Disorders?', options=['Yes', 'No'])\n",
    "medication_usage = st.radio(label='Do You Use Any Medication?', options=['Yes', 'No'])\n",
    "sleep_duration = st.number_input(\"Enter Your Sleep Duration (in Hours)\", min_value=4.0, max_value=9.0, step=0.1)\n",
    "steps_today = st.slider(label='Enter The Amount of Steps You Took Today', min_value=3000, max_value=11000)\n",
    "\n",
    "st.markdown(\"---\")  # Another horizontal line for separation\n",
    "\n",
    "# Summary of inputs\n",
    "st.subheader(\"Summary of Your Inputs\")\n",
    "st.write(f\"**Age:** {age}\")\n",
    "st.write(f\"**Gender:** {gender}\")\n",
    "st.write(f\"**Physical Activity Level:** {activity_level}\")\n",
    "st.write(f\"**Dietary Habits:** {dietary_habits}\")\n",
    "st.write(f\"**Sleep Disorders:** {sleep_disorder}\")\n",
    "st.write(f\"**Medication Usage:** {medication_usage}\")\n",
    "st.write(f\"**Sleep Duration:** {sleep_duration} hours\")\n",
    "st.write(f\"**Steps Taken Today:** {steps_today}\")\n",
    "\n",
    "# Submit button\n",
    "if st.button('Submit Data for Analysis'):\n",
    "    st.success(\"Thank you for your input! Your data will be analyzed.\")\n",
    "    # Here you can trigger the analysis or store the data for further processing\n"
   ]
  }
 ],
 "metadata": {
  "kernelspec": {
   "display_name": "machine_learning",
   "language": "python",
   "name": "python3"
  },
  "language_info": {
   "codemirror_mode": {
    "name": "ipython",
    "version": 3
   },
   "file_extension": ".py",
   "mimetype": "text/x-python",
   "name": "python",
   "nbconvert_exporter": "python",
   "pygments_lexer": "ipython3",
   "version": "3.11.5"
  }
 },
 "nbformat": 4,
 "nbformat_minor": 2
}
